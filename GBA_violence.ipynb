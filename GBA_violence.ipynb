{
  "nbformat": 4,
  "nbformat_minor": 0,
  "metadata": {
    "colab": {
      "provenance": [],
      "collapsed_sections": []
    },
    "kernelspec": {
      "name": "python3",
      "display_name": "Python 3"
    },
    "language_info": {
      "name": "python"
    }
  },
  "cells": [
    {
      "cell_type": "markdown",
      "source": [
        "Workshop from Open Heroines on Gender Based Violence Analysis\n",
        "\n",
        "Taught by Ivana Feldfeber from Data Genero"
      ],
      "metadata": {
        "id": "0KksXJ1Jn6K6"
      }
    },
    {
      "cell_type": "markdown",
      "source": [],
      "metadata": {
        "id": "70fc5PPvop5C"
      }
    },
    {
      "cell_type": "code",
      "source": [],
      "metadata": {
        "id": "REolF2oWtELU"
      },
      "execution_count": null,
      "outputs": []
    }
  ]
}