{
  "nbformat": 4,
  "nbformat_minor": 0,
  "metadata": {
    "colab": {
      "provenance": [],
      "collapsed_sections": [],
      "authorship_tag": "ABX9TyM9U1NJJZYg6KCca+p8jY5a",
      "include_colab_link": true
    },
    "kernelspec": {
      "name": "python3",
      "display_name": "Python 3"
    },
    "language_info": {
      "name": "python"
    }
  },
  "cells": [
    {
      "cell_type": "markdown",
      "metadata": {
        "id": "view-in-github",
        "colab_type": "text"
      },
      "source": [
        "<a href=\"https://colab.research.google.com/github/tmyeomans/open-heroines-workshop-gender-based-violence/blob/main/GBA_violence.ipynb\" target=\"_parent\"><img src=\"https://colab.research.google.com/assets/colab-badge.svg\" alt=\"Open In Colab\"/></a>"
      ]
    },
    {
      "cell_type": "markdown",
      "source": [
        "Workshop from Open Heroines on Gender Based Violence Analysis\n",
        "\n",
        "Taught by Ivana Feldfeber from Data Genero"
      ],
      "metadata": {
        "id": "0KksXJ1Jn6K6"
      }
    },
    {
      "cell_type": "markdown",
      "source": [],
      "metadata": {
        "id": "70fc5PPvop5C"
      }
    },
    {
      "cell_type": "code",
      "source": [],
      "metadata": {
        "id": "REolF2oWtELU"
      },
      "execution_count": null,
      "outputs": []
    }
  ]
}